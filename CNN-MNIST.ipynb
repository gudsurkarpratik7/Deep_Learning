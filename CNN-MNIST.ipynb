{
 "cells": [
  {
   "cell_type": "code",
   "execution_count": 0,
   "metadata": {
    "colab": {
     "base_uri": "https://localhost:8080/",
     "height": 121
    },
    "colab_type": "code",
    "executionInfo": {
     "elapsed": 6370,
     "status": "ok",
     "timestamp": 1571766555159,
     "user": {
      "displayName": "Pratik gudsurkar",
      "photoUrl": "https://lh3.googleusercontent.com/a-/AAuE7mD83_v4CFQNaS5ip1IoZAQCGiFHLESX_URSqjFvwQ=s64",
      "userId": "13935083285514170791"
     },
     "user_tz": -330
    },
    "id": "YcKCS8iUJv1o",
    "outputId": "1c7ea22b-da91-43f1-d427-1c4d4057542c"
   },
   "outputs": [
    {
     "name": "stderr",
     "output_type": "stream",
     "text": [
      "Using TensorFlow backend.\n"
     ]
    },
    {
     "name": "stdout",
     "output_type": "stream",
     "text": [
      "Downloading data from https://s3.amazonaws.com/img-datasets/mnist.npz\n",
      "11493376/11490434 [==============================] - 1s 0us/step\n",
      "x_train shape: (60000, 28, 28, 1)\n",
      "60000 train samples\n",
      "10000 test samples\n"
     ]
    }
   ],
   "source": [
    "# Credits: https://github.com/keras-team/keras/blob/master/examples/mnist_cnn.py\n",
    "\n",
    "from __future__ import print_function\n",
    "import keras\n",
    "from keras.datasets import mnist\n",
    "from keras.models import Sequential\n",
    "from keras.layers import Dense, Dropout, Flatten\n",
    "from keras.layers import Conv2D, MaxPooling2D\n",
    "from keras import backend as K\n",
    "from keras.layers import BatchNormalization\n",
    "\n",
    "batch_size = 128\n",
    "num_classes = 10\n",
    "epochs = 4\n",
    "\n",
    "# input image dimensions\n",
    "img_rows, img_cols = 28, 28\n",
    "\n",
    "# the data, split between train and test sets\n",
    "(x_train, y_train), (x_test, y_test) = mnist.load_data()\n",
    "\n",
    "if K.image_data_format() == 'channels_first':\n",
    "    x_train = x_train.reshape(x_train.shape[0], 1, img_rows, img_cols)\n",
    "    x_test = x_test.reshape(x_test.shape[0], 1, img_rows, img_cols)\n",
    "    input_shape = (1, img_rows, img_cols)\n",
    "else:\n",
    "    x_train = x_train.reshape(x_train.shape[0], img_rows, img_cols, 1)\n",
    "    x_test = x_test.reshape(x_test.shape[0], img_rows, img_cols, 1)\n",
    "    input_shape = (img_rows, img_cols, 1)\n",
    "\n",
    "x_train = x_train.astype('float32')\n",
    "x_test = x_test.astype('float32')\n",
    "x_train /= 255\n",
    "x_test /= 255\n",
    "print('x_train shape:', x_train.shape)\n",
    "print(x_train.shape[0], 'train samples')\n",
    "print(x_test.shape[0], 'test samples')\n",
    "\n",
    "# convert class vectors to binary class matrices\n",
    "y_train = keras.utils.to_categorical(y_train, num_classes)\n",
    "y_test = keras.utils.to_categorical(y_test, num_classes)\n",
    "\n",
    "\n",
    "\n",
    "\n"
   ]
  },
  {
   "cell_type": "markdown",
   "metadata": {
    "colab_type": "text",
    "id": "TaLIdJwYLLZr"
   },
   "source": [
    "**Model 1 :** Three Layer Achitecture with 3*3 kernels, maxpooling and No-dropout"
   ]
  },
  {
   "cell_type": "code",
   "execution_count": 0,
   "metadata": {
    "colab": {
     "base_uri": "https://localhost:8080/",
     "height": 970
    },
    "colab_type": "code",
    "executionInfo": {
     "elapsed": 1567460,
     "status": "ok",
     "timestamp": 1571638823859,
     "user": {
      "displayName": "Pratik gudsurkar",
      "photoUrl": "https://lh3.googleusercontent.com/a-/AAuE7mD83_v4CFQNaS5ip1IoZAQCGiFHLESX_URSqjFvwQ=s64",
      "userId": "13935083285514170791"
     },
     "user_tz": -330
    },
    "id": "ysHnHNCeKjbX",
    "outputId": "7a1dc0c7-d703-4f95-8cf1-fece5e7b1283"
   },
   "outputs": [
    {
     "name": "stdout",
     "output_type": "stream",
     "text": [
      "WARNING:tensorflow:From /usr/local/lib/python3.6/dist-packages/keras/backend/tensorflow_backend.py:66: The name tf.get_default_graph is deprecated. Please use tf.compat.v1.get_default_graph instead.\n",
      "\n",
      "WARNING:tensorflow:From /usr/local/lib/python3.6/dist-packages/keras/backend/tensorflow_backend.py:541: The name tf.placeholder is deprecated. Please use tf.compat.v1.placeholder instead.\n",
      "\n",
      "WARNING:tensorflow:From /usr/local/lib/python3.6/dist-packages/keras/backend/tensorflow_backend.py:4432: The name tf.random_uniform is deprecated. Please use tf.random.uniform instead.\n",
      "\n",
      "WARNING:tensorflow:From /usr/local/lib/python3.6/dist-packages/keras/backend/tensorflow_backend.py:4267: The name tf.nn.max_pool is deprecated. Please use tf.nn.max_pool2d instead.\n",
      "\n",
      "WARNING:tensorflow:From /usr/local/lib/python3.6/dist-packages/keras/backend/tensorflow_backend.py:190: The name tf.get_default_session is deprecated. Please use tf.compat.v1.get_default_session instead.\n",
      "\n",
      "WARNING:tensorflow:From /usr/local/lib/python3.6/dist-packages/keras/backend/tensorflow_backend.py:197: The name tf.ConfigProto is deprecated. Please use tf.compat.v1.ConfigProto instead.\n",
      "\n",
      "WARNING:tensorflow:From /usr/local/lib/python3.6/dist-packages/keras/backend/tensorflow_backend.py:203: The name tf.Session is deprecated. Please use tf.compat.v1.Session instead.\n",
      "\n",
      "WARNING:tensorflow:From /usr/local/lib/python3.6/dist-packages/keras/backend/tensorflow_backend.py:207: The name tf.global_variables is deprecated. Please use tf.compat.v1.global_variables instead.\n",
      "\n",
      "WARNING:tensorflow:From /usr/local/lib/python3.6/dist-packages/keras/backend/tensorflow_backend.py:216: The name tf.is_variable_initialized is deprecated. Please use tf.compat.v1.is_variable_initialized instead.\n",
      "\n",
      "WARNING:tensorflow:From /usr/local/lib/python3.6/dist-packages/keras/backend/tensorflow_backend.py:223: The name tf.variables_initializer is deprecated. Please use tf.compat.v1.variables_initializer instead.\n",
      "\n",
      "WARNING:tensorflow:From /usr/local/lib/python3.6/dist-packages/keras/backend/tensorflow_backend.py:2041: The name tf.nn.fused_batch_norm is deprecated. Please use tf.compat.v1.nn.fused_batch_norm instead.\n",
      "\n",
      "WARNING:tensorflow:From /usr/local/lib/python3.6/dist-packages/keras/backend/tensorflow_backend.py:148: The name tf.placeholder_with_default is deprecated. Please use tf.compat.v1.placeholder_with_default instead.\n",
      "\n",
      "WARNING:tensorflow:From /usr/local/lib/python3.6/dist-packages/keras/optimizers.py:793: The name tf.train.Optimizer is deprecated. Please use tf.compat.v1.train.Optimizer instead.\n",
      "\n",
      "WARNING:tensorflow:From /usr/local/lib/python3.6/dist-packages/keras/backend/tensorflow_backend.py:3576: The name tf.log is deprecated. Please use tf.math.log instead.\n",
      "\n",
      "WARNING:tensorflow:From /usr/local/lib/python3.6/dist-packages/tensorflow_core/python/ops/math_grad.py:1424: where (from tensorflow.python.ops.array_ops) is deprecated and will be removed in a future version.\n",
      "Instructions for updating:\n",
      "Use tf.where in 2.0, which has the same broadcast rule as np.where\n",
      "WARNING:tensorflow:From /usr/local/lib/python3.6/dist-packages/keras/backend/tensorflow_backend.py:1033: The name tf.assign_add is deprecated. Please use tf.compat.v1.assign_add instead.\n",
      "\n",
      "WARNING:tensorflow:From /usr/local/lib/python3.6/dist-packages/keras/backend/tensorflow_backend.py:1020: The name tf.assign is deprecated. Please use tf.compat.v1.assign instead.\n",
      "\n",
      "Train on 60000 samples, validate on 10000 samples\n",
      "Epoch 1/8\n",
      "60000/60000 [==============================] - 195s 3ms/step - loss: 0.1266 - acc: 0.9621 - val_loss: 0.0466 - val_acc: 0.9867\n",
      "Epoch 2/8\n",
      "60000/60000 [==============================] - 195s 3ms/step - loss: 0.0424 - acc: 0.9866 - val_loss: 0.1316 - val_acc: 0.9596\n",
      "Epoch 3/8\n",
      "60000/60000 [==============================] - 193s 3ms/step - loss: 0.0281 - acc: 0.9910 - val_loss: 0.0492 - val_acc: 0.9858\n",
      "Epoch 4/8\n",
      "60000/60000 [==============================] - 198s 3ms/step - loss: 0.0195 - acc: 0.9939 - val_loss: 0.0705 - val_acc: 0.9795\n",
      "Epoch 5/8\n",
      "60000/60000 [==============================] - 199s 3ms/step - loss: 0.0126 - acc: 0.9958 - val_loss: 0.0264 - val_acc: 0.9921\n",
      "Epoch 6/8\n",
      "60000/60000 [==============================] - 193s 3ms/step - loss: 0.0094 - acc: 0.9971 - val_loss: 0.0286 - val_acc: 0.9926\n",
      "Epoch 7/8\n",
      "60000/60000 [==============================] - 190s 3ms/step - loss: 0.0071 - acc: 0.9977 - val_loss: 0.0341 - val_acc: 0.9914\n",
      "Epoch 8/8\n",
      "60000/60000 [==============================] - 193s 3ms/step - loss: 0.0043 - acc: 0.9987 - val_loss: 0.0529 - val_acc: 0.9867\n",
      "Test loss: 0.05290637528377456\n",
      "Test accuracy: 0.9867\n"
     ]
    }
   ],
   "source": [
    "model1 = Sequential()\n",
    "\n",
    "#Level 1\n",
    "model1.add(Conv2D(32,kernel_size=(3,3),activation='relu',input_shape=input_shape))\n",
    "model1.add(Conv2D(64, (3, 3), activation='relu'))\n",
    "model1.add(MaxPooling2D(pool_size=(2, 2)))\n",
    "\n",
    "\n",
    "#Level2\n",
    "model1.add(Conv2D(64, (3, 3), activation='relu'))\n",
    "#Batch Normalizing the metrix\n",
    "model1.add(BatchNormalization())\n",
    "model1.add(MaxPooling2D(pool_size=(2, 2)))\n",
    "\n",
    "\n",
    "\n",
    "#Level3\n",
    "model1.add(Conv2D(128, (3, 3), activation='relu'))\n",
    "model1.add(BatchNormalization())\n",
    "model1.add(MaxPooling2D(pool_size=(2, 2)))\n",
    "\n",
    "\n",
    "\n",
    "model1.add(Flatten())\n",
    "model1.add(Dense(128, activation='relu'))\n",
    "\n",
    "model1.add(Dense(num_classes, activation='softmax'))\n",
    "\n",
    "\n",
    "#Compile\n",
    "model1.compile(loss=keras.losses.categorical_crossentropy,\n",
    "              optimizer=keras.optimizers.Adadelta(),\n",
    "              metrics=['accuracy'])\n",
    "\n",
    "\n",
    "#run\n",
    "loss=model1.fit(x_train, y_train,\n",
    "          batch_size=batch_size,\n",
    "          epochs=epochs,\n",
    "          verbose=1,\n",
    "          validation_data=(x_test, y_test))\n",
    "score = model1.evaluate(x_test, y_test, verbose=0)\n",
    "print('Test loss:', score[0])\n",
    "print('Test accuracy:', score[1])\n"
   ]
  },
  {
   "cell_type": "code",
   "execution_count": 0,
   "metadata": {
    "colab": {},
    "colab_type": "code",
    "id": "8hTXqd7lQRAg"
   },
   "outputs": [],
   "source": [
    "#copied from previous assignment\n",
    "\n",
    "%matplotlib inline\n",
    "import warnings\n",
    "import matplotlib as mpl\n",
    "import matplotlib.pyplot as plt\n",
    "import numpy as np\n",
    "import time\n",
    "# https://gist.github.com/greydanus/f6eee59eaf1d90fcb3b534a25362cea4\n",
    "# https://stackoverflow.com/a/14434334\n",
    "# this function is used to update the plots for each epoch and error\n",
    "def plt_dynamic(x, vy, ty, ax, colors=['b']):\n",
    "    ax.plot(x, vy, 'b', label=\"Validation Loss\")\n",
    "    ax.plot(x, ty, 'r', label=\"Train Loss\")\n",
    "    plt.legend()\n",
    "    plt.grid()\n",
    "    #plt.show()\n",
    "    fig.canvas.draw()"
   ]
  },
  {
   "cell_type": "code",
   "execution_count": 0,
   "metadata": {
    "colab": {
     "base_uri": "https://localhost:8080/",
     "height": 283
    },
    "colab_type": "code",
    "executionInfo": {
     "elapsed": 1925,
     "status": "ok",
     "timestamp": 1571641979607,
     "user": {
      "displayName": "Pratik gudsurkar",
      "photoUrl": "https://lh3.googleusercontent.com/a-/AAuE7mD83_v4CFQNaS5ip1IoZAQCGiFHLESX_URSqjFvwQ=s64",
      "userId": "13935083285514170791"
     },
     "user_tz": -330
    },
    "id": "vwjOW1aeQBls",
    "outputId": "2dc1e05e-bb16-41d0-d52a-a4813a107e87"
   },
   "outputs": [
    {
     "data": {
      "image/png": "[encoded data removed]",
      "text/plain": [
       "<Figure size 432x288 with 1 Axes>"
      ]
     },
     "metadata": {
      "tags": []
     },
     "output_type": "display_data"
    }
   ],
   "source": [
    "fig,ax = plt.subplots(1,1)\n",
    "ax.set_xlabel('epoch') ; ax.set_ylabel('Categorical Crossentropy Loss')\n",
    "\n",
    "# list of epoch numbers\n",
    "x = list(range(1,epochs+1))\n",
    "vy = loss.history['val_loss']\n",
    "ty = loss.history['loss']\n",
    "plt_dynamic(x, vy, ty, ax)"
   ]
  },
  {
   "cell_type": "markdown",
   "metadata": {
    "colab_type": "text",
    "id": "ZONcXPWVPTHs"
   },
   "source": [
    "**Model2** : Four Layer Architecture with 5*5 kernels,maxpooling,BatchNormalization and dropout"
   ]
  },
  {
   "cell_type": "code",
   "execution_count": 0,
   "metadata": {
    "colab": {
     "base_uri": "https://localhost:8080/",
     "height": 345
    },
    "colab_type": "code",
    "executionInfo": {
     "elapsed": 12145633,
     "status": "ok",
     "timestamp": 1571654188085,
     "user": {
      "displayName": "Pratik gudsurkar",
      "photoUrl": "https://lh3.googleusercontent.com/a-/AAuE7mD83_v4CFQNaS5ip1IoZAQCGiFHLESX_URSqjFvwQ=s64",
      "userId": "13935083285514170791"
     },
     "user_tz": -330
    },
    "id": "5OCC8apzPfsI",
    "outputId": "21724209-e6f0-40e2-f20c-0d7fe3bd3d8d"
   },
   "outputs": [
    {
     "name": "stdout",
     "output_type": "stream",
     "text": [
      "Train on 60000 samples, validate on 10000 samples\n",
      "Epoch 1/8\n",
      "60000/60000 [==============================] - 1590s 26ms/step - loss: 0.2182 - acc: 0.9341 - val_loss: 0.0562 - val_acc: 0.9833\n",
      "Epoch 2/8\n",
      "60000/60000 [==============================] - 1527s 25ms/step - loss: 0.0595 - acc: 0.9820 - val_loss: 0.0453 - val_acc: 0.9840\n",
      "Epoch 3/8\n",
      "60000/60000 [==============================] - 1502s 25ms/step - loss: 0.0430 - acc: 0.9871 - val_loss: 0.0543 - val_acc: 0.9833\n",
      "Epoch 4/8\n",
      "60000/60000 [==============================] - 1493s 25ms/step - loss: 0.0379 - acc: 0.9881 - val_loss: 0.0169 - val_acc: 0.9948\n",
      "Epoch 5/8\n",
      "60000/60000 [==============================] - 1480s 25ms/step - loss: 0.0322 - acc: 0.9897 - val_loss: 0.0246 - val_acc: 0.9927\n",
      "Epoch 6/8\n",
      "60000/60000 [==============================] - 1485s 25ms/step - loss: 0.0287 - acc: 0.9909 - val_loss: 0.0307 - val_acc: 0.9913\n",
      "Epoch 7/8\n",
      "60000/60000 [==============================] - 1503s 25ms/step - loss: 0.0253 - acc: 0.9920 - val_loss: 0.0252 - val_acc: 0.9916\n",
      "Epoch 8/8\n",
      "60000/60000 [==============================] - 1504s 25ms/step - loss: 0.0252 - acc: 0.9922 - val_loss: 0.0287 - val_acc: 0.9914\n",
      "Test loss: 0.02874977340691112\n",
      "Test accuracy: 0.9914\n"
     ]
    }
   ],
   "source": [
    "model2=Sequential()\n",
    "\n",
    "#droput rate\n",
    "P=0.4\n",
    "\n",
    "#Level 1\n",
    "model2.add(Conv2D(32,kernel_size=(5,5),padding=\"same\",activation='relu',input_shape=input_shape))\n",
    "model2.add(Conv2D(64, (5, 5), activation='relu'))\n",
    "model2.add(BatchNormalization())\n",
    "model2.add(Dropout(P))\n",
    "\n",
    "#Level 2\n",
    "model2.add(Conv2D(64, (5, 5),padding=\"same\", activation='relu'))\n",
    "model2.add(BatchNormalization())\n",
    "model2.add(MaxPooling2D(pool_size=(2, 2)))\n",
    "model2.add(Dropout(P))\n",
    "\n",
    "#Level 3\n",
    "model2.add(Conv2D(128, (5, 5),padding=\"same\", activation='relu'))\n",
    "model2.add(BatchNormalization())\n",
    "model2.add(MaxPooling2D(pool_size=(2, 2)))\n",
    "model2.add(Dropout(P))\n",
    "\n",
    "#Level 4\n",
    "model2.add(Conv2D(128, (5, 5),padding=\"same\", activation='relu'))\n",
    "model2.add(BatchNormalization())\n",
    "model2.add(MaxPooling2D(pool_size=(2, 2)))\n",
    "model2.add(Dropout(P))\n",
    "\n",
    "\n",
    "\n",
    "## Flatten \n",
    "model2.add(Flatten())\n",
    "model2.add(Dense(128, activation='relu'))\n",
    "\n",
    "## Output layer\n",
    "model2.add(Dense(num_classes, activation='softmax'))\n",
    "\n",
    "## Model compile\n",
    "model2.compile(loss=keras.losses.categorical_crossentropy,\n",
    "              optimizer=keras.optimizers.Adam(),\n",
    "              metrics=['accuracy'])\n",
    "## Model fit\n",
    "loss=model2.fit(x_train, y_train,\n",
    "          batch_size=batch_size,\n",
    "          epochs=epochs,\n",
    "          verbose=1,\n",
    "          validation_data=(x_test, y_test))\n",
    "score = model2.evaluate(x_test, y_test, verbose=0)\n",
    "print('Test loss:', score[0])\n",
    "print('Test accuracy:', score[1])"
   ]
  },
  {
   "cell_type": "code",
   "execution_count": 0,
   "metadata": {
    "colab": {
     "base_uri": "https://localhost:8080/",
     "height": 283
    },
    "colab_type": "code",
    "executionInfo": {
     "elapsed": 1697,
     "status": "ok",
     "timestamp": 1571656612494,
     "user": {
      "displayName": "Pratik gudsurkar",
      "photoUrl": "https://lh3.googleusercontent.com/a-/AAuE7mD83_v4CFQNaS5ip1IoZAQCGiFHLESX_URSqjFvwQ=s64",
      "userId": "13935083285514170791"
     },
     "user_tz": -330
    },
    "id": "Q6rH4g1oR5zV",
    "outputId": "cf6ae789-5576-46c1-f94c-341509e8a4bd"
   },
   "outputs": [
    {
     "data": {
      "image/png": "[encoded data removed]",
      "text/plain": [
       "<Figure size 432x288 with 1 Axes>"
      ]
     },
     "metadata": {
      "tags": []
     },
     "output_type": "display_data"
    }
   ],
   "source": [
    "fig,ax = plt.subplots(1,1)\n",
    "ax.set_xlabel('epoch') ; ax.set_ylabel('Categorical Crossentropy Loss')\n",
    "\n",
    "\n",
    "x = list(range(1,epochs+1))\n",
    "vy = loss.history['val_loss']\n",
    "ty = loss.history['loss']\n",
    "plt_dynamic(x, vy, ty, ax)"
   ]
  },
  {
   "cell_type": "markdown",
   "metadata": {
    "colab_type": "text",
    "id": "6zeKP2QuSS6A"
   },
   "source": [
    "**Model 3:**6 Layer Architecture with 7*7 kernels with Batch-Normalization and dropout"
   ]
  },
  {
   "cell_type": "code",
   "execution_count": 0,
   "metadata": {
    "colab": {
     "base_uri": "https://localhost:8080/",
     "height": 815
    },
    "colab_type": "code",
    "executionInfo": {
     "elapsed": 78262,
     "status": "error",
     "timestamp": 1571657619211,
     "user": {
      "displayName": "Pratik gudsurkar",
      "photoUrl": "https://lh3.googleusercontent.com/a-/AAuE7mD83_v4CFQNaS5ip1IoZAQCGiFHLESX_URSqjFvwQ=s64",
      "userId": "13935083285514170791"
     },
     "user_tz": -330
    },
    "id": "f_3t2o6WSiAC",
    "outputId": "91eb4f8d-b571-4649-c9b8-e77d1cb893a3"
   },
   "outputs": [
    {
     "name": "stdout",
     "output_type": "stream",
     "text": [
      "WARNING:tensorflow:From /usr/local/lib/python3.6/dist-packages/keras/backend/tensorflow_backend.py:66: The name tf.get_default_graph is deprecated. Please use tf.compat.v1.get_default_graph instead.\n",
      "\n",
      "WARNING:tensorflow:From /usr/local/lib/python3.6/dist-packages/keras/backend/tensorflow_backend.py:541: The name tf.placeholder is deprecated. Please use tf.compat.v1.placeholder instead.\n",
      "\n",
      "WARNING:tensorflow:From /usr/local/lib/python3.6/dist-packages/keras/backend/tensorflow_backend.py:4432: The name tf.random_uniform is deprecated. Please use tf.random.uniform instead.\n",
      "\n",
      "WARNING:tensorflow:From /usr/local/lib/python3.6/dist-packages/keras/backend/tensorflow_backend.py:190: The name tf.get_default_session is deprecated. Please use tf.compat.v1.get_default_session instead.\n",
      "\n",
      "WARNING:tensorflow:From /usr/local/lib/python3.6/dist-packages/keras/backend/tensorflow_backend.py:197: The name tf.ConfigProto is deprecated. Please use tf.compat.v1.ConfigProto instead.\n",
      "\n",
      "WARNING:tensorflow:From /usr/local/lib/python3.6/dist-packages/keras/backend/tensorflow_backend.py:203: The name tf.Session is deprecated. Please use tf.compat.v1.Session instead.\n",
      "\n",
      "WARNING:tensorflow:From /usr/local/lib/python3.6/dist-packages/keras/backend/tensorflow_backend.py:207: The name tf.global_variables is deprecated. Please use tf.compat.v1.global_variables instead.\n",
      "\n",
      "WARNING:tensorflow:From /usr/local/lib/python3.6/dist-packages/keras/backend/tensorflow_backend.py:216: The name tf.is_variable_initialized is deprecated. Please use tf.compat.v1.is_variable_initialized instead.\n",
      "\n",
      "WARNING:tensorflow:From /usr/local/lib/python3.6/dist-packages/keras/backend/tensorflow_backend.py:223: The name tf.variables_initializer is deprecated. Please use tf.compat.v1.variables_initializer instead.\n",
      "\n",
      "WARNING:tensorflow:From /usr/local/lib/python3.6/dist-packages/keras/backend/tensorflow_backend.py:2041: The name tf.nn.fused_batch_norm is deprecated. Please use tf.compat.v1.nn.fused_batch_norm instead.\n",
      "\n",
      "WARNING:tensorflow:From /usr/local/lib/python3.6/dist-packages/keras/backend/tensorflow_backend.py:148: The name tf.placeholder_with_default is deprecated. Please use tf.compat.v1.placeholder_with_default instead.\n",
      "\n",
      "WARNING:tensorflow:From /usr/local/lib/python3.6/dist-packages/keras/backend/tensorflow_backend.py:3733: calling dropout (from tensorflow.python.ops.nn_ops) with keep_prob is deprecated and will be removed in a future version.\n",
      "Instructions for updating:\n",
      "Please use `rate` instead of `keep_prob`. Rate should be set to `rate = 1 - keep_prob`.\n",
      "WARNING:tensorflow:From /usr/local/lib/python3.6/dist-packages/keras/optimizers.py:793: The name tf.train.Optimizer is deprecated. Please use tf.compat.v1.train.Optimizer instead.\n",
      "\n",
      "WARNING:tensorflow:From /usr/local/lib/python3.6/dist-packages/keras/backend/tensorflow_backend.py:3576: The name tf.log is deprecated. Please use tf.math.log instead.\n",
      "\n",
      "WARNING:tensorflow:From /usr/local/lib/python3.6/dist-packages/tensorflow_core/python/ops/math_grad.py:1424: where (from tensorflow.python.ops.array_ops) is deprecated and will be removed in a future version.\n",
      "Instructions for updating:\n",
      "Use tf.where in 2.0, which has the same broadcast rule as np.where\n",
      "WARNING:tensorflow:From /usr/local/lib/python3.6/dist-packages/keras/backend/tensorflow_backend.py:1033: The name tf.assign_add is deprecated. Please use tf.compat.v1.assign_add instead.\n",
      "\n",
      "WARNING:tensorflow:From /usr/local/lib/python3.6/dist-packages/keras/backend/tensorflow_backend.py:1020: The name tf.assign is deprecated. Please use tf.compat.v1.assign instead.\n",
      "\n",
      "Train on 60000 samples, validate on 10000 samples\n",
      "Epoch 1/4\n",
      "60000/60000 [==============================] - 11815s 197ms/step - loss: 0.1944 - acc: 0.9477 - val_loss: 0.1498 - val_acc: 0.9668\n",
      "Epoch 2/4\n",
      "60000/60000 [==============================] - 11727s 195ms/step - loss: 0.0705 - acc: 0.9813 - val_loss: 0.0853 - val_acc: 0.9802\n",
      "Epoch 3/4\n",
      "60000/60000 [==============================] - 11710s 195ms/step - loss: 0.0509 - acc: 0.9857 - val_loss: 0.0389 - val_acc: 0.9913\n",
      "Epoch 4/4\n",
      "38400/60000 [==================>...........] - ETA: 1:07:42 - loss: 0.0356 - acc: 0.9897"
     ]
    }
   ],
   "source": [
    "model3=Sequential()\n",
    "\n",
    "#droput rate\n",
    "P=0.3\n",
    "\n",
    "##Level 1\n",
    "model3.add(Conv2D(32,kernel_size=(7,7),padding=\"same\",activation='relu',input_shape=input_shape))\n",
    "model3.add(Conv2D(128, (7, 7), activation='relu'))\n",
    "model3.add(BatchNormalization())\n",
    "model3.add(Dropout(P))\n",
    "\n",
    "##Level 2\n",
    "model3.add(Conv2D(128, (7, 7),padding=\"same\", activation='relu'))\n",
    "model3.add(BatchNormalization())\n",
    "model3.add(Dropout(P))\n",
    "\n",
    "##Level 3\n",
    "model3.add(Conv2D(128, (7, 7),padding=\"same\", activation='relu'))\n",
    "model3.add(BatchNormalization())\n",
    "model3.add(Dropout(P))\n",
    "\n",
    "##Level 4\n",
    "model3.add(Conv2D(64, (7, 7),padding=\"same\", activation='relu'))\n",
    "model3.add(BatchNormalization())\n",
    "model3.add(Dropout(P))\n",
    "\n",
    "##Level 5\n",
    "model3.add(Conv2D(64, (7, 7),padding=\"same\", activation='relu'))\n",
    "model3.add(BatchNormalization())\n",
    "model3.add(Dropout(P))\n",
    "\n",
    "##Level 6\n",
    "model3.add(Conv2D(64, (7, 7),padding=\"same\", activation='relu'))\n",
    "model3.add(BatchNormalization())\n",
    "model3.add(Dropout(P))\n",
    "           \n",
    "           \n",
    "           \n",
    "           \n",
    "## Flatten \n",
    "model3.add(Flatten())\n",
    "model3.add(Dense(128, activation='relu'))\n",
    "\n",
    "## Output layer\n",
    "model3.add(Dense(num_classes, activation='softmax'))\n",
    "\n",
    "## Model compile\n",
    "model3.compile(loss=keras.losses.categorical_crossentropy,\n",
    "              optimizer=keras.optimizers.Adam(),\n",
    "              metrics=['accuracy'])\n",
    "## Model fit\n",
    "loss=model3.fit(x_train, y_train,\n",
    "          batch_size=batch_size,\n",
    "          epochs=epochs,\n",
    "          verbose=1,\n",
    "          validation_data=(x_test, y_test))\n",
    "score = model3.evaluate(x_test, y_test, verbose=0)\n",
    "print('Test loss:', score[0])\n",
    "print('Test accuracy:', score[1])"
   ]
  },
  {
   "cell_type": "markdown",
   "metadata": {
    "colab_type": "text",
    "id": "ynibs7WE3e0S"
   },
   "source": [
    "Model 4 :4 Layer Architecture with 5*5 kernels with Batch-Normalization,maxpooling and dropout"
   ]
  },
  {
   "cell_type": "code",
   "execution_count": 0,
   "metadata": {
    "colab": {
     "base_uri": "https://localhost:8080/",
     "height": 207
    },
    "colab_type": "code",
    "executionInfo": {
     "elapsed": 11738077,
     "status": "ok",
     "timestamp": 1571669910268,
     "user": {
      "displayName": "Pratik gudsurkar",
      "photoUrl": "https://lh3.googleusercontent.com/a-/AAuE7mD83_v4CFQNaS5ip1IoZAQCGiFHLESX_URSqjFvwQ=s64",
      "userId": "13935083285514170791"
     },
     "user_tz": -330
    },
    "id": "ECQSTpCy3axQ",
    "outputId": "6722377a-8eff-417b-d530-27490825db8c"
   },
   "outputs": [
    {
     "name": "stdout",
     "output_type": "stream",
     "text": [
      "Train on 60000 samples, validate on 10000 samples\n",
      "Epoch 1/4\n",
      "60000/60000 [==============================] - 2630s 44ms/step - loss: 0.1648 - acc: 0.9533 - val_loss: 0.0624 - val_acc: 0.9823\n",
      "Epoch 2/4\n",
      "60000/60000 [==============================] - 2835s 47ms/step - loss: 0.0578 - acc: 0.9842 - val_loss: 0.0502 - val_acc: 0.9875\n",
      "Epoch 3/4\n",
      "60000/60000 [==============================] - 3062s 51ms/step - loss: 0.0421 - acc: 0.9877 - val_loss: 0.0377 - val_acc: 0.9881\n",
      "Epoch 4/4\n",
      "60000/60000 [==============================] - 3098s 52ms/step - loss: 0.0337 - acc: 0.9902 - val_loss: 0.0390 - val_acc: 0.9906\n",
      "Test loss: 0.039029028620755614\n",
      "Test accuracy: 0.9906\n"
     ]
    }
   ],
   "source": [
    "model4=Sequential()\n",
    "\n",
    "#droput rate\n",
    "P=0.4\n",
    "\n",
    "#Level 1\n",
    "model4.add(Conv2D(32,kernel_size=(5,5),padding=\"same\",activation='relu',input_shape=input_shape))\n",
    "model4.add(Conv2D(64, (5, 5), activation='relu'))\n",
    "model4.add(BatchNormalization())\n",
    "model4.add(Dropout(P))\n",
    "\n",
    "#Level 2\n",
    "model4.add(Conv2D(64, (5, 5),padding=\"same\", activation='relu'))\n",
    "model4.add(BatchNormalization())\n",
    "#model4.add(MaxPooling2D(pool_size=(2, 2)))\n",
    "model4.add(Dropout(P))\n",
    "\n",
    "#Level 3\n",
    "model4.add(Conv2D(128, (5, 5),padding=\"same\", activation='relu'))\n",
    "model4.add(BatchNormalization())\n",
    "model4.add(MaxPooling2D(pool_size=(2, 2)))\n",
    "model4.add(Dropout(P))\n",
    "\n",
    "#Level 4\n",
    "model4.add(Conv2D(128, (5, 5),padding=\"same\", activation='relu'))\n",
    "model4.add(BatchNormalization())\n",
    "#model4.add(MaxPooling2D(pool_size=(2, 2)))\n",
    "model4.add(Dropout(P))\n",
    "\n",
    "\n",
    "\n",
    "## Flatten \n",
    "model4.add(Flatten())\n",
    "model4.add(Dense(128, activation='relu'))\n",
    "\n",
    "## Output layer\n",
    "model4.add(Dense(num_classes, activation='softmax'))\n",
    "\n",
    "## Model compile\n",
    "model4.compile(loss=keras.losses.categorical_crossentropy,\n",
    "              optimizer=keras.optimizers.Adam(),\n",
    "              metrics=['accuracy'])\n",
    "## Model fit\n",
    "loss=model4.fit(x_train, y_train,\n",
    "          batch_size=batch_size,\n",
    "          epochs=epochs,\n",
    "          verbose=1,\n",
    "          validation_data=(x_test, y_test))\n",
    "score = model4.evaluate(x_test, y_test, verbose=0)\n",
    "print('Test loss:', score[0])\n",
    "print('Test accuracy:', score[1])\n"
   ]
  },
  {
   "cell_type": "code",
   "execution_count": 0,
   "metadata": {
    "colab": {
     "base_uri": "https://localhost:8080/",
     "height": 283
    },
    "colab_type": "code",
    "executionInfo": {
     "elapsed": 1545,
     "status": "ok",
     "timestamp": 1571670719858,
     "user": {
      "displayName": "Pratik gudsurkar",
      "photoUrl": "https://lh3.googleusercontent.com/a-/AAuE7mD83_v4CFQNaS5ip1IoZAQCGiFHLESX_URSqjFvwQ=s64",
      "userId": "13935083285514170791"
     },
     "user_tz": -330
    },
    "id": "SfpuIrkI3z8p",
    "outputId": "094d0609-9ac8-494d-f42a-85a760c36c58"
   },
   "outputs": [
    {
     "data": {
      "image/png": "[encoded data removed]",
      "text/plain": [
       "<Figure size 432x288 with 1 Axes>"
      ]
     },
     "metadata": {
      "tags": []
     },
     "output_type": "display_data"
    }
   ],
   "source": [
    "fig,ax = plt.subplots(1,1)\n",
    "ax.set_xlabel('epoch') ; ax.set_ylabel('Categorical Crossentropy Loss')\n",
    "\n",
    "# list of epoch numbers\n",
    "x = list(range(1,epochs+1))\n",
    "vy = loss.history['val_loss']\n",
    "ty = loss.history['loss']\n",
    "plt_dynamic(x, vy, ty, ax)"
   ]
  },
  {
   "cell_type": "markdown",
   "metadata": {
    "colab_type": "text",
    "id": "MhiW3KxUXS10"
   },
   "source": [
    "**Summary** :"
   ]
  },
  {
   "cell_type": "code",
   "execution_count": 2,
   "metadata": {
    "colab": {
     "base_uri": "https://localhost:8080/",
     "height": 155
    },
    "colab_type": "code",
    "executionInfo": {
     "elapsed": 1631,
     "status": "ok",
     "timestamp": 1571990229503,
     "user": {
      "displayName": "Pratik gudsurkar",
      "photoUrl": "https://lh3.googleusercontent.com/a-/AAuE7mD83_v4CFQNaS5ip1IoZAQCGiFHLESX_URSqjFvwQ=s64",
      "userId": "13935083285514170791"
     },
     "user_tz": -330
    },
    "id": "6A1SPjJXXTZL",
    "outputId": "f9877d93-c76e-40c4-e5b5-e0cc7e8790d1"
   },
   "outputs": [
    {
     "name": "stdout",
     "output_type": "stream",
     "text": [
      "+-----------+--------------+--------+--------------+-------------+-------------------+-----------+-----------+---------------+\n",
      "| Model No. | Architecture | Epochs | Dropout rate | Kernel size | Maxpooling-kernel | Optimizer | Test Loss | Test Accuracy |\n",
      "+-----------+--------------+--------+--------------+-------------+-------------------+-----------+-----------+---------------+\n",
      "|  Model 1  |   3 Layer    |   12   |  No dropout  |     3*3     |        2*2        |  Adadelta |   0.0529  |     0.9867    |\n",
      "|  Model 2  |   4 Layer    |   12   |     0.2      |     5*5     |        2*2        |    Adam   |   0.0287  |     0.9914    |\n",
      "|  Model 4  |   4 Layer    |   8    |     0.2      |     5*5     |   No Maxpooling   |    Adam   |   0.0391  |     0.9906    |\n",
      "|  Model 3  |   7 Layer    |   4    |     0.2      |     7*7     |        2*2        |    Adam   |   0.0351  |     0.9933    |\n",
      "+-----------+--------------+--------+--------------+-------------+-------------------+-----------+-----------+---------------+\n"
     ]
    }
   ],
   "source": [
    "from prettytable import PrettyTable\n",
    "\n",
    "x = PrettyTable()\n",
    "\n",
    "x.field_names = [\"Model No.\",\"Architecture\",\"Epochs\",\"Dropout rate\",\"Kernel size\",\"Maxpooling-kernel\",\"Optimizer\",\"Test Loss\",\"Test Accuracy\"]\n",
    "\n",
    "x.add_row([\"Model 1\",\"3 Layer\",\"12\", \"No dropout\",\"3*3\",\"2*2\",\"Adadelta\",0.0529,0.9867])\n",
    "\n",
    "x.add_row([\"Model 2\",\"4 Layer\",\"12\", \"0.2\",\"5*5\",'2*2',\"Adam\",0.0287,0.9914])\n",
    "x.add_row([\"Model 4\",\"4 Layer\",\"8\", \"0.2\",\"5*5\",'No Maxpooling',\"Adam\",0.0391,0.9906])\n",
    "\n",
    "x.add_row([\"Model 3\",\"7 Layer\",\"4\", \"0.2\",\"7*7\",'2*2',\"Adam\",0.0351,0.9933])\n",
    "\n",
    "\n",
    "print(x)"
   ]
  },
  {
   "cell_type": "markdown",
   "metadata": {
    "colab_type": "text",
    "id": "tOnuNQSF67ba"
   },
   "source": [
    "**Observation:**"
   ]
  },
  {
   "cell_type": "markdown",
   "metadata": {
    "colab_type": "text",
    "id": "lhkCab2R7A2a"
   },
   "source": [
    "1.With introducing the dropout and maxpooling we can see the significant improvement in accuracy.\n",
    "\n",
    "\n",
    "\n",
    "\n",
    "2.As the number of layers increase the model start to overfit, even in 4 epochs Model3 has achived very high accuracy."
   ]
  }
 ],
 "metadata": {
  "colab": {
   "collapsed_sections": [],
   "name": "MNIST.ipynb",
   "provenance": []
  },
  "kernelspec": {
   "display_name": "Python 3",
   "language": "python",
   "name": "python3"
  },
  "language_info": {
   "codemirror_mode": {
    "name": "ipython",
    "version": 3
   },
   "file_extension": ".py",
   "mimetype": "text/x-python",
   "name": "python",
   "nbconvert_exporter": "python",
   "pygments_lexer": "ipython3",
   "version": "3.6.5"
  }
 },
 "nbformat": 4,
 "nbformat_minor": 1
}
