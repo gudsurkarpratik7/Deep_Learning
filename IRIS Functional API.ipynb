{
 "cells": [
  {
   "cell_type": "code",
   "execution_count": 1,
   "metadata": {},
   "outputs": [
    {
     "name": "stderr",
     "output_type": "stream",
     "text": [
      "C:\\Users\\APPLIED AI\\AppData\\Local\\Continuum\\anaconda3\\lib\\site-packages\\h5py\\__init__.py:36: FutureWarning: Conversion of the second argument of issubdtype from `float` to `np.floating` is deprecated. In future, it will be treated as `np.float64 == np.dtype(float).type`.\n",
      "  from ._conv import register_converters as _register_converters\n"
     ]
    }
   ],
   "source": [
    "##importing all required modules\n",
    "import numpy as np\n",
    "import pandas as pd\n",
    "import sklearn\n",
    "import tensorflow as tf"
   ]
  },
  {
   "cell_type": "code",
   "execution_count": 2,
   "metadata": {},
   "outputs": [],
   "source": [
    "from sklearn import datasets\n",
    "iris = datasets.load_iris()\n",
    "X = iris.data\n",
    "Y = iris.target"
   ]
  },
  {
   "cell_type": "code",
   "execution_count": 3,
   "metadata": {},
   "outputs": [
    {
     "name": "stdout",
     "output_type": "stream",
     "text": [
      "(150, 4)\n",
      "(150,)\n"
     ]
    }
   ],
   "source": [
    "print(X.shape)\n",
    "print(Y.shape)"
   ]
  },
  {
   "cell_type": "code",
   "execution_count": 4,
   "metadata": {},
   "outputs": [],
   "source": [
    "#train test split\n",
    "from sklearn.model_selection import train_test_split\n",
    "X_train, X_test, y_train, y_test = train_test_split(X, Y, test_size=0.2, random_state=30,stratify=Y)"
   ]
  },
  {
   "cell_type": "code",
   "execution_count": 5,
   "metadata": {},
   "outputs": [
    {
     "name": "stdout",
     "output_type": "stream",
     "text": [
      "train data shape (120, 4)\n",
      "test data shape (30, 4)\n"
     ]
    }
   ],
   "source": [
    "print(\"train data shape\",X_train.shape)\n",
    "print(\"test data shape\",X_test.shape)"
   ]
  },
  {
   "cell_type": "code",
   "execution_count": 6,
   "metadata": {},
   "outputs": [],
   "source": [
    "##convert Y to one hot coding vectors\n",
    "from sklearn.preprocessing import OneHotEncoder\n",
    "encoder = OneHotEncoder(categories='auto')\n",
    "y_train_ohe = encoder.fit_transform(y_train.reshape(-1,1))\n",
    "y_test_ohe = encoder.transform(y_test.reshape(-1,1))\n",
    "y_train_ohe = y_train_ohe.toarray()\n",
    "y_test_ohe = y_test_ohe.toarray()"
   ]
  },
  {
   "cell_type": "code",
   "execution_count": 7,
   "metadata": {},
   "outputs": [
    {
     "name": "stdout",
     "output_type": "stream",
     "text": [
      "shape of train labels (120, 3)\n",
      "shape of test labels (30, 3)\n"
     ]
    }
   ],
   "source": [
    "print(\"shape of train labels\",y_train_ohe.shape)\n",
    "print(\"shape of test labels\",y_test_ohe.shape)"
   ]
  },
  {
   "cell_type": "code",
   "execution_count": 8,
   "metadata": {},
   "outputs": [],
   "source": [
    "#importing layers from tensorflow\n",
    "from tensorflow.keras.layers import Dense,concatenate,Activation,Dropout,Input\n",
    "from tensorflow.keras.models import Model"
   ]
  },
  {
   "cell_type": "markdown",
   "metadata": {},
   "source": [
    "<pre><b>Simple Model using tf.keras Functional API</b>\n",
    "<pre> We are writing code to Build model as below \n",
    "\n",
    "<img src=\"https://i.imgur.com/i1Lpk22.png\"></pre><pre>"
   ]
  },
  {
   "cell_type": "code",
   "execution_count": 9,
   "metadata": {},
   "outputs": [
    {
     "name": "stdout",
     "output_type": "stream",
     "text": [
      "WARNING:tensorflow:From C:\\Users\\APPLIED AI\\AppData\\Local\\Continuum\\anaconda3\\lib\\site-packages\\tensorflow\\python\\ops\\resource_variable_ops.py:435: colocate_with (from tensorflow.python.framework.ops) is deprecated and will be removed in a future version.\n",
      "Instructions for updating:\n",
      "Colocations handled automatically by placer.\n"
     ]
    }
   ],
   "source": [
    "#clearing the graph of tensorflow\n",
    "tf.keras.backend.clear_session()\n",
    "\n",
    "# input to the model ( Input Layer )\n",
    "Input_model = Input(shape=(4,),name=\"iris_input\")\n",
    "\n",
    "# layer 1\n",
    "layer1 = Dense(units=32,activation='relu',kernel_initializer='he_normal',name=\"layer1\")(Input_model)#we are giving output of input layer\n",
    "#we got layer1 --> output of the first layer\n",
    "\n",
    "# layer 2\n",
    "layer2 = Dense(units=16,activation='relu',kernel_initializer='he_normal',name='layer2')(layer1)#we are giving output of first layer\n",
    "#we got layer2 --> output of the second layer\n",
    "\n",
    "#output\n",
    "output = Dense(units=3,activation='softmax',kernel_initializer=\"glorot_uniform\",name='output')(layer2)#we are giving output of second layer\n",
    "\n",
    "# till now we connected all the network from input to output. \n",
    "# Now we have to create a model for this you have to give what is the input layer and what is the output layer\n",
    "\n",
    "model = Model(inputs=Input_model,outputs=output) # we specified the model input and output\n"
   ]
  },
  {
   "cell_type": "code",
   "execution_count": 10,
   "metadata": {},
   "outputs": [
    {
     "name": "stdout",
     "output_type": "stream",
     "text": [
      "_________________________________________________________________\n",
      "Layer (type)                 Output Shape              Param #   \n",
      "=================================================================\n",
      "iris_input (InputLayer)      (None, 4)                 0         \n",
      "_________________________________________________________________\n",
      "layer1 (Dense)               (None, 32)                160       \n",
      "_________________________________________________________________\n",
      "layer2 (Dense)               (None, 16)                528       \n",
      "_________________________________________________________________\n",
      "output (Dense)               (None, 3)                 51        \n",
      "=================================================================\n",
      "Total params: 739\n",
      "Trainable params: 739\n",
      "Non-trainable params: 0\n",
      "_________________________________________________________________\n"
     ]
    }
   ],
   "source": [
    "#summary of the model\n",
    "model.summary()"
   ]
  },
  {
   "cell_type": "code",
   "execution_count": 11,
   "metadata": {},
   "outputs": [],
   "source": [
    "#compile \n",
    "model.compile(optimizer=tf.keras.optimizers.RMSprop(lr=0.001),loss='categorical_crossentropy',metrics=['accuracy'])"
   ]
  },
  {
   "cell_type": "code",
   "execution_count": 12,
   "metadata": {},
   "outputs": [
    {
     "name": "stdout",
     "output_type": "stream",
     "text": [
      "Train on 120 samples, validate on 30 samples\n",
      "WARNING:tensorflow:From C:\\Users\\APPLIED AI\\AppData\\Local\\Continuum\\anaconda3\\lib\\site-packages\\tensorflow\\python\\ops\\math_ops.py:3066: to_int32 (from tensorflow.python.ops.math_ops) is deprecated and will be removed in a future version.\n",
      "Instructions for updating:\n",
      "Use tf.cast instead.\n",
      "Epoch 1/5\n",
      "120/120 [==============================] - 1s 8ms/sample - loss: 1.0940 - acc: 0.5500 - val_loss: 0.7656 - val_acc: 0.5667\n",
      "Epoch 2/5\n",
      "120/120 [==============================] - 0s 869us/sample - loss: 0.7021 - acc: 0.6750 - val_loss: 0.6968 - val_acc: 0.8333\n",
      "Epoch 3/5\n",
      "120/120 [==============================] - 0s 599us/sample - loss: 0.6397 - acc: 0.8000 - val_loss: 0.6819 - val_acc: 0.5333\n",
      "Epoch 4/5\n",
      "120/120 [==============================] - 0s 429us/sample - loss: 0.6086 - acc: 0.8500 - val_loss: 0.6135 - val_acc: 0.9333\n",
      "Epoch 5/5\n",
      "120/120 [==============================] - 0s 454us/sample - loss: 0.5588 - acc: 0.9333 - val_loss: 0.5791 - val_acc: 0.8667\n"
     ]
    },
    {
     "data": {
      "text/plain": [
       "<tensorflow.python.keras.callbacks.History at 0x1d6577f7da0>"
      ]
     },
     "execution_count": 12,
     "metadata": {},
     "output_type": "execute_result"
    }
   ],
   "source": [
    "#train\n",
    "model.fit(X_train,y_train_ohe,batch_size=16,epochs=5,validation_data=(X_test,y_test_ohe))"
   ]
  },
  {
   "cell_type": "markdown",
   "metadata": {},
   "source": [
    "<pre><b>Model with Two Inputs</b>\n",
    "<pre> We are writing code to Build model as below \n",
    "\n",
    "<img src=\"https://i.imgur.com/xcSMxKN.png\"></pre><pre><pre>"
   ]
  },
  {
   "cell_type": "code",
   "execution_count": 13,
   "metadata": {},
   "outputs": [],
   "source": [
    "#clearing the graph of tensorflow\n",
    "tf.keras.backend.clear_session()\n",
    "\n",
    "# input to the model ( Input Layer 1 )\n",
    "Input_model_1 = Input(shape=(4,),name=\"iris_input_1\")\n",
    "\n",
    "# layer 11\n",
    "layer11 = Dense(units=32,activation='relu',kernel_initializer='he_normal',name=\"layer11\")(Input_model_1)#we are giving output of input layer 1\n",
    "#we got layer11 --> output of the first layer for first input\n",
    "\n",
    "\n",
    "# input to the model ( Input Layer 2 )\n",
    "Input_model_2 = Input(shape=(4,),name=\"iris_input_2\")\n",
    "\n",
    "# layer 12\n",
    "layer12 = Dense(units=16,activation='sigmoid',kernel_initializer='glorot_uniform',name=\"layer12\")(Input_model_2)#we are giving output of input layer 2\n",
    "#we got layer12 --> output of the first layer for second input\n",
    "\n",
    "# we got two outputs layer11,layer12\n",
    "# concatenating those two outputs\n",
    "concat_layer = concatenate(inputs=[layer11,layer12],name=\"concat\")\n",
    "\n",
    "# layer 2\n",
    "layer2 = Dense(units=16,activation='relu',kernel_initializer='he_normal',name=\"layer2\")(concat_layer)#we are giving output of concat layer\n",
    "#we got layer2 --> output of the second layer\n",
    "\n",
    "#output\n",
    "output = Dense(units=3,activation='softmax',kernel_initializer=\"glorot_uniform\",name=\"output\")(layer2)#we are giving output of second layer\n",
    "\n",
    "# till now we connected all the network from input to output. \n",
    "# Now we have to create a model for this you have to give what is the input layer and what is the output layer\n",
    "\n",
    "model = Model(inputs=[Input_model_1,Input_model_2],outputs=output) # we specified the model input and output\n"
   ]
  },
  {
   "cell_type": "code",
   "execution_count": 14,
   "metadata": {},
   "outputs": [
    {
     "name": "stdout",
     "output_type": "stream",
     "text": [
      "__________________________________________________________________________________________________\n",
      "Layer (type)                    Output Shape         Param #     Connected to                     \n",
      "==================================================================================================\n",
      "iris_input_1 (InputLayer)       (None, 4)            0                                            \n",
      "__________________________________________________________________________________________________\n",
      "iris_input_2 (InputLayer)       (None, 4)            0                                            \n",
      "__________________________________________________________________________________________________\n",
      "layer11 (Dense)                 (None, 32)           160         iris_input_1[0][0]               \n",
      "__________________________________________________________________________________________________\n",
      "layer12 (Dense)                 (None, 16)           80          iris_input_2[0][0]               \n",
      "__________________________________________________________________________________________________\n",
      "concat (Concatenate)            (None, 48)           0           layer11[0][0]                    \n",
      "                                                                 layer12[0][0]                    \n",
      "__________________________________________________________________________________________________\n",
      "layer2 (Dense)                  (None, 16)           784         concat[0][0]                     \n",
      "__________________________________________________________________________________________________\n",
      "output (Dense)                  (None, 3)            51          layer2[0][0]                     \n",
      "==================================================================================================\n",
      "Total params: 1,075\n",
      "Trainable params: 1,075\n",
      "Non-trainable params: 0\n",
      "__________________________________________________________________________________________________\n"
     ]
    }
   ],
   "source": [
    "#summary\n",
    "model.summary()"
   ]
  },
  {
   "cell_type": "code",
   "execution_count": 15,
   "metadata": {},
   "outputs": [],
   "source": [
    "#compile \n",
    "model.compile(optimizer=tf.keras.optimizers.RMSprop(lr=0.01),loss='categorical_crossentropy',metrics=['accuracy'])"
   ]
  },
  {
   "cell_type": "code",
   "execution_count": 16,
   "metadata": {},
   "outputs": [
    {
     "name": "stdout",
     "output_type": "stream",
     "text": [
      "Train on 120 samples, validate on 30 samples\n",
      "Epoch 1/5\n",
      "120/120 [==============================] - 0s 4ms/sample - loss: 1.3641 - acc: 0.6167 - val_loss: 0.6345 - val_acc: 0.6667\n",
      "Epoch 2/5\n",
      "120/120 [==============================] - 0s 501us/sample - loss: 0.5387 - acc: 0.7500 - val_loss: 1.2409 - val_acc: 0.6333\n",
      "Epoch 3/5\n",
      "120/120 [==============================] - 0s 488us/sample - loss: 0.3349 - acc: 0.9333 - val_loss: 0.4865 - val_acc: 0.7333\n",
      "Epoch 4/5\n",
      "120/120 [==============================] - 0s 507us/sample - loss: 0.4732 - acc: 0.7917 - val_loss: 0.1738 - val_acc: 0.9667\n",
      "Epoch 5/5\n",
      "120/120 [==============================] - 0s 489us/sample - loss: 0.1392 - acc: 0.9583 - val_loss: 0.1559 - val_acc: 0.9333\n"
     ]
    },
    {
     "data": {
      "text/plain": [
       "<tensorflow.python.keras.callbacks.History at 0x1d700111e10>"
      ]
     },
     "execution_count": 16,
     "metadata": {},
     "output_type": "execute_result"
    }
   ],
   "source": [
    "#train\n",
    "model.fit([X_train,X_train],y_train_ohe,batch_size=16,epochs=5,validation_data=([X_test,X_test],y_test_ohe))"
   ]
  }
 ],
 "metadata": {
  "kernelspec": {
   "display_name": "Python 3",
   "language": "python",
   "name": "python3"
  },
  "language_info": {
   "codemirror_mode": {
    "name": "ipython",
    "version": 3
   },
   "file_extension": ".py",
   "mimetype": "text/x-python",
   "name": "python",
   "nbconvert_exporter": "python",
   "pygments_lexer": "ipython3",
   "version": "3.6.8"
  }
 },
 "nbformat": 4,
 "nbformat_minor": 2
}
